{
 "cells": [
  {
   "cell_type": "markdown",
   "id": "c2a5282d-f117-4ac9-acc8-f095d7042ba1",
   "metadata": {
    "tags": []
   },
   "source": [
    "# Peripheral showcase: RPI sense hat in CHI@Edge\n",
    "\n",
    "Welcome to this Jupyter notebook guide on using the [Raspberry Pi Sense Hat](https://www.raspberrypi.com/documentation/accessories/sense-hat.html) within CHI@Edge, a sensor expansion board specially designed for Raspberry Pi that houses an onboard gyroscope, accelerometer, magnetometer, barometer, temperature and humidity sensor, etc.. This artifact will walk you through the steps to access and utilize the sense hat for your edge computing experiments.. \n",
    "\n",
    "Please check out our extensive [documentation](https://chameleoncloud.gitbook.io/chi-edge/device-enrollment/peripherals-and-device-profiles) on how to add peripherals to CHI@Edge devices\n",
    "\n",
    "In the following example we'll show how to use the sense hat to capture sensor data."
   ]
  },
  {
   "cell_type": "code",
   "execution_count": null,
   "id": "ad4bcf2d-b458-4436-95ab-4cd99e6321f0",
   "metadata": {},
   "outputs": [],
   "source": [
    "import chi\n",
    "chi.use_site(\"CHI@Edge\")"
   ]
  },
  {
   "cell_type": "code",
   "execution_count": null,
   "id": "20761240-ed5c-4ec8-8d51-33cf950f28e7",
   "metadata": {},
   "outputs": [],
   "source": [
    "chi.set(\"project_name\", \"PLACEHOLDER\")"
   ]
  },
  {
   "cell_type": "code",
   "execution_count": null,
   "id": "84038b03-90e9-4f24-898e-d75c9199f8fc",
   "metadata": {},
   "outputs": [],
   "source": [
    "from chi import container\n",
    "from chi import lease\n",
    "\n",
    "# backwards compa\n",
    "from chi import context\n",
    "context.version = \"0.17\""
   ]
  },
  {
   "cell_type": "markdown",
   "id": "07e8cdcc-c8ce-46e3-b1b6-c6080a5b407a",
   "metadata": {},
   "source": [
    "## Creating the Lease\n",
    "\n",
    "To access the sense hat, we need to make a lease for the specific device that the camera is currently attached to. The device `acaces-byod-demo-01` is specifically set up with the proper kernel and driver options to enable support for the waveshare sense hat"
   ]
  },
  {
   "cell_type": "code",
   "execution_count": null,
   "id": "5d19779e-e688-45e0-90f0-8b336411ec4a",
   "metadata": {},
   "outputs": [],
   "source": [
    "import os\n",
    "\n",
    "# get your username, just used to name leases something identifiable\n",
    "username = os.environ.get(\"USER\")\n",
    "\n",
    "# machine name refers to the \"type\" of device\n",
    "machine_name = \"raspberrypi4-64\"\n",
    "\n",
    "# Reserving the specific device to which the Wavesharee sense Pi-hat is attached\n",
    "device_name = \"acaces-byod-demo-01\"\n",
    "\n",
    "# get dates for lease start and end\n",
    "start, end = lease.lease_duration(days=1)\n",
    "\n",
    "# make a unique name for the lease\n",
    "lease_name = f\"{username}-{machine_name}-{start}\"\n",
    "\n",
    "reservations = []\n",
    "lease.add_device_reservation(reservations, count=1, machine_name=machine_name, device_name=device_name)\n",
    "container_lease = lease.create_lease(lease_name, reservations, start, end)\n",
    "lease_id = container_lease[\"id\"]\n",
    "\n",
    "print(f\"created lease with name {lease_name} and uuid {lease_id}, waiting for it to start. This can take up to 60s.\")\n",
    "lease.wait_for_active(lease_id)\n",
    "print(\"Done!\")"
   ]
  },
  {
   "cell_type": "code",
   "execution_count": null,
   "id": "77feeef9-9f69-440e-a1b9-d392d9b5db33",
   "metadata": {},
   "outputs": [],
   "source": [
    "print(\"Requesting container ... This may take a while as the large container image is being downloaded\")\n",
    "\n",
    "# Set a name for the container. Because CHI@Edge uses Kubernetes, ensure that underscores aren't in the name\n",
    "container_name = f\"tutorial-acaces-sensehat\".replace(\"_\",\"-\")\n",
    "\n",
    "try:\n",
    "    my_container = container.create_container(\n",
    "        container_name,\n",
    "        image=\"docker.io/shermanm/sense-hat-test:alpine1-latest\",\n",
    "        device_profiles=[\"pi_sensehat\"],\n",
    "        reservation_id=lease.get_device_reservation(lease_id),\n",
    "    )\n",
    "except RuntimeError as ex:\n",
    "    print(ex)\n",
    "    print(f\"please stop and/or delete {container_name} and try again\")\n",
    "else:\n",
    "    print(f\"Successfully created container: {container_name}!\")"
   ]
  },
  {
   "cell_type": "markdown",
   "id": "7a7adf67-69fb-42a8-8227-7d08fff30fcd",
   "metadata": {},
   "source": [
    "## Destroying the container after use"
   ]
  },
  {
   "cell_type": "code",
   "execution_count": null,
   "id": "f08334e4-e3ef-4f1f-ac11-320db998a8fe",
   "metadata": {},
   "outputs": [],
   "source": [
    "chi.container.destroy_container(my_container.uuid)"
   ]
  }
 ],
 "metadata": {
  "kernelspec": {
   "display_name": "Python 3 (ipykernel)",
   "language": "python",
   "name": "python3"
  },
  "language_info": {
   "codemirror_mode": {
    "name": "ipython",
    "version": 3
   },
   "file_extension": ".py",
   "mimetype": "text/x-python",
   "name": "python",
   "nbconvert_exporter": "python",
   "pygments_lexer": "ipython3",
   "version": "3.10.9"
  }
 },
 "nbformat": 4,
 "nbformat_minor": 5
}
